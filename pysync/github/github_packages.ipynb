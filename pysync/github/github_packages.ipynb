{
 "cells": [
  {
   "cell_type": "code",
   "execution_count": 1,
   "id": "ordered-audio",
   "metadata": {},
   "outputs": [],
   "source": [
    "from pathlib import Path"
   ]
  },
  {
   "cell_type": "code",
   "execution_count": 6,
   "id": "willing-gallery",
   "metadata": {},
   "outputs": [],
   "source": [
    "#from github.github import GitRepo\n",
    "# import github\n",
    "from .github import GitRepo"
   ]
  },
  {
   "cell_type": "code",
   "execution_count": 3,
   "id": "italic-spare",
   "metadata": {},
   "outputs": [],
   "source": [
    "# Add repos here!\n",
    "repos = [\n",
    "    Path.home() / 'vimfiles',\n",
    "    Path.home() / 'wiki',\n",
    "    Path.home() / 'Ublish',\n",
    "]\n",
    "\n",
    "dev_path = Path.home() / 'Development'\n",
    "repos.extend([repo for repo in dev_path.glob('*') if dev_path.is_dir() and not dev_path.is_symlink()])\n",
    "\n",
    "# Add bare repos here!\n",
    "dotfiles_git_directory = Path.home() / '.dotfiles'\n",
    "dotfiles_work_dir = Path.home()\n",
    "\n",
    "bare_repos = [(dotfiles_git_directory, dotfiles_work_dir)]"
   ]
  },
  {
   "cell_type": "code",
   "execution_count": 4,
   "id": "provincial-protest",
   "metadata": {},
   "outputs": [],
   "source": [
    "repositories = []\n",
    "\n",
    "for repo in repos:\n",
    "    repositories.append(GitRepo(path=repo))"
   ]
  }
 ],
 "metadata": {
  "jupytext": {
   "formats": "ipynb,py:light"
  },
  "kernelspec": {
   "display_name": "Python 3",
   "language": "python",
   "name": "python3"
  },
  "language_info": {
   "codemirror_mode": {
    "name": "ipython",
    "version": 3
   },
   "file_extension": ".py",
   "mimetype": "text/x-python",
   "name": "python",
   "nbconvert_exporter": "python",
   "pygments_lexer": "ipython3",
   "version": "3.9.1"
  }
 },
 "nbformat": 4,
 "nbformat_minor": 5
}
