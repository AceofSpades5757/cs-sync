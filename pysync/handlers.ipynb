{
 "cells": [
  {
   "cell_type": "code",
   "execution_count": 2,
   "id": "latin-sister",
   "metadata": {},
   "outputs": [],
   "source": [
    "from blessed import Terminal"
   ]
  },
  {
   "cell_type": "code",
   "execution_count": 3,
   "id": "presidential-timeline",
   "metadata": {},
   "outputs": [
    {
     "name": "stderr",
     "output_type": "stream",
     "text": [
      "c:\\users\\kyle l. davis\\development\\pysync\\.venv\\lib\\site-packages\\blessed\\terminal.py:190: UserWarning: Failed to setupterm(kind='xterm-color'): Could not find terminal xterm-color\n",
      "  warnings.warn(msg)\n"
     ]
    }
   ],
   "source": [
    "term = Terminal()"
   ]
  },
  {
   "cell_type": "code",
   "execution_count": 1,
   "id": "advance-freight",
   "metadata": {},
   "outputs": [],
   "source": [
    "def repo_output_handler(repo, tabs=1):\n",
    "    \n",
    "    results = []\n",
    "    indent = '\\t'\n",
    "    repo_condition = 'green'\n",
    "    for i in repo.modified:\n",
    "        results.append(term.yellow(f'{tabs*indent}modified: {i.path}'))\n",
    "        repo_condition = 'yellow'\n",
    "    for i in repo.renamed:\n",
    "        results.append(term.yellow(f'{tabs*indent}renamed: {i.path} {i.original_path}'))\n",
    "        repo_condition = 'yellow'\n",
    "    for i in repo.untracked:\n",
    "        results.append(term.yellow(f'{tabs*indent}untracked: {i.path}'))\n",
    "        repo_condition = 'yellow'\n",
    "    for i in repo.deleted:\n",
    "        results.append(term.red(f'{tabs*indent}deleted: {i.path}'))\n",
    "        repo_condition = 'red'\n",
    "    for i in repo.ignored:\n",
    "        results.append(term.red(f'{tabs*indent}ignored: {i.path}'))\n",
    "        \n",
    "        \n",
    "    if not repo.online:\n",
    "        repo_condition = 'blue'\n",
    "    \n",
    "    try:\n",
    "        header = f\"{(tabs-1)*indent} {repo.name}{' ' + repo.branch.head if repo.branch.head else ''} {repo.ahead:+} {repo.behind:+} ~{len(repo.modified)} -{len(repo.deleted)}\"\n",
    "        header = [(tabs-1)*indent, repo.name]\n",
    "        if repo.branch.head:\n",
    "            header.append(term.magenta(repo.branch.head))\n",
    "        if repo.ahead:\n",
    "            header.append(term.cyan(f'↑{repo.ahead}'))\n",
    "        if repo.behind:\n",
    "            header.append(term.cyan(f'↓{repo.ahead}'))\n",
    "        if repo.modified:\n",
    "            header.append(term.cyan(f'~{len(repo.modified)}'))\n",
    "        if repo.deleted:\n",
    "            header.append(term.cyan(f'-{len(repo.deleted)}'))\n",
    "        if repo.untracked:\n",
    "            header.append(term.cyan(f'…{len(repo.untracked)}'))\n",
    "        header = ' '.join(header)\n",
    "    except:  # For Bare Repos\n",
    "        header = f\"{(tabs-1)*indent} {repo.name} {len(repo.modified):+}\"\n",
    "    \n",
    "    if repo_condition == 'green':\n",
    "        results.insert(0, term.green(f\"✓ {header}\"))\n",
    "    elif repo_condition == 'yellow':\n",
    "        results.insert(0, term.yellow(f\"⚠ {header}\"))\n",
    "    elif repo_condition == 'red':\n",
    "        results.insert(0, term.red(f\"! {header}\"))\n",
    "    elif repo_condition == 'blue':\n",
    "        results.insert(0, term.blue(f\"? {header}\"))\n",
    "    \n",
    "    return '\\n'.join(results)"
   ]
  }
 ],
 "metadata": {
  "jupytext": {
   "encoding": "# -*- coding: utf-8 -*-",
   "formats": "ipynb,py:light"
  },
  "kernelspec": {
   "display_name": "Python 3",
   "language": "python",
   "name": "python3"
  },
  "language_info": {
   "codemirror_mode": {
    "name": "ipython",
    "version": 3
   },
   "file_extension": ".py",
   "mimetype": "text/x-python",
   "name": "python",
   "nbconvert_exporter": "python",
   "pygments_lexer": "ipython3",
   "version": "3.9.1"
  }
 },
 "nbformat": 4,
 "nbformat_minor": 5
}
